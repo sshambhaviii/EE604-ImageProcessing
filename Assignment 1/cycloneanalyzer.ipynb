{
 "cells": [
  {
   "cell_type": "markdown",
   "metadata": {
    "id": "fJB3BtTXk6ei"
   },
   "source": [
    "# EE604 Image Processing\n",
    "## Cyclone Analyser (Q3)\n",
    "\n",
    "*Shambhavi Sabharwal 200914*\n",
    "\n",
    "\n",
    "\n"
   ]
  },
  {
   "cell_type": "code",
   "execution_count": 3,
   "metadata": {
    "id": "yxSBGHjhOZR7"
   },
   "outputs": [
    {
     "ename": "ImportError",
     "evalue": "dlopen(/opt/homebrew/Caskroom/miniforge/base/lib/python3.9/site-packages/Pillow-9.0.1-py3.9-macosx-11.0-arm64.egg/PIL/_imaging.cpython-39-darwin.so, 0x0002): symbol not found in flat namespace '_xcb_connect'",
     "output_type": "error",
     "traceback": [
      "\u001b[0;31m---------------------------------------------------------------------------\u001b[0m",
      "\u001b[0;31mImportError\u001b[0m                               Traceback (most recent call last)",
      "Input \u001b[0;32mIn [3]\u001b[0m, in \u001b[0;36m<cell line: 1>\u001b[0;34m()\u001b[0m\n\u001b[0;32m----> 1\u001b[0m \u001b[38;5;28;01mfrom\u001b[39;00m \u001b[38;5;21;01mPIL\u001b[39;00m \u001b[38;5;28;01mimport\u001b[39;00m Image\n\u001b[1;32m      2\u001b[0m \u001b[38;5;28;01mimport\u001b[39;00m \u001b[38;5;21;01mcv2\u001b[39;00m\n\u001b[1;32m      3\u001b[0m \u001b[38;5;28;01mimport\u001b[39;00m \u001b[38;5;21;01mnumpy\u001b[39;00m \u001b[38;5;28;01mas\u001b[39;00m \u001b[38;5;21;01mnp\u001b[39;00m\n",
      "File \u001b[0;32m/opt/homebrew/Caskroom/miniforge/base/lib/python3.9/site-packages/Pillow-9.0.1-py3.9-macosx-11.0-arm64.egg/PIL/Image.py:89\u001b[0m, in \u001b[0;36m<module>\u001b[0;34m\u001b[0m\n\u001b[1;32m     80\u001b[0m MAX_IMAGE_PIXELS \u001b[38;5;241m=\u001b[39m \u001b[38;5;28mint\u001b[39m(\u001b[38;5;241m1024\u001b[39m \u001b[38;5;241m*\u001b[39m \u001b[38;5;241m1024\u001b[39m \u001b[38;5;241m*\u001b[39m \u001b[38;5;241m1024\u001b[39m \u001b[38;5;241m/\u001b[39m\u001b[38;5;241m/\u001b[39m \u001b[38;5;241m4\u001b[39m \u001b[38;5;241m/\u001b[39m\u001b[38;5;241m/\u001b[39m \u001b[38;5;241m3\u001b[39m)\n\u001b[1;32m     83\u001b[0m \u001b[38;5;28;01mtry\u001b[39;00m:\n\u001b[1;32m     84\u001b[0m     \u001b[38;5;66;03m# If the _imaging C module is not present, Pillow will not load.\u001b[39;00m\n\u001b[1;32m     85\u001b[0m     \u001b[38;5;66;03m# Note that other modules should not refer to _imaging directly;\u001b[39;00m\n\u001b[1;32m     86\u001b[0m     \u001b[38;5;66;03m# import Image and use the Image.core variable instead.\u001b[39;00m\n\u001b[1;32m     87\u001b[0m     \u001b[38;5;66;03m# Also note that Image.core is not a publicly documented interface,\u001b[39;00m\n\u001b[1;32m     88\u001b[0m     \u001b[38;5;66;03m# and should be considered private and subject to change.\u001b[39;00m\n\u001b[0;32m---> 89\u001b[0m     \u001b[38;5;28;01mfrom\u001b[39;00m \u001b[38;5;21;01m.\u001b[39;00m \u001b[38;5;28;01mimport\u001b[39;00m _imaging \u001b[38;5;28;01mas\u001b[39;00m core\n\u001b[1;32m     91\u001b[0m     \u001b[38;5;28;01mif\u001b[39;00m __version__ \u001b[38;5;241m!=\u001b[39m \u001b[38;5;28mgetattr\u001b[39m(core, \u001b[38;5;124m\"\u001b[39m\u001b[38;5;124mPILLOW_VERSION\u001b[39m\u001b[38;5;124m\"\u001b[39m, \u001b[38;5;28;01mNone\u001b[39;00m):\n\u001b[1;32m     92\u001b[0m         \u001b[38;5;28;01mraise\u001b[39;00m \u001b[38;5;167;01mImportError\u001b[39;00m(\n\u001b[1;32m     93\u001b[0m             \u001b[38;5;124m\"\u001b[39m\u001b[38;5;124mThe _imaging extension was built for another version of Pillow or PIL:\u001b[39m\u001b[38;5;130;01m\\n\u001b[39;00m\u001b[38;5;124m\"\u001b[39m\n\u001b[1;32m     94\u001b[0m             \u001b[38;5;124mf\u001b[39m\u001b[38;5;124m\"\u001b[39m\u001b[38;5;124mCore version: \u001b[39m\u001b[38;5;132;01m{\u001b[39;00m\u001b[38;5;28mgetattr\u001b[39m(core, \u001b[38;5;124m'\u001b[39m\u001b[38;5;124mPILLOW_VERSION\u001b[39m\u001b[38;5;124m'\u001b[39m, \u001b[38;5;28;01mNone\u001b[39;00m)\u001b[38;5;132;01m}\u001b[39;00m\u001b[38;5;130;01m\\n\u001b[39;00m\u001b[38;5;124m\"\u001b[39m\n\u001b[1;32m     95\u001b[0m             \u001b[38;5;124mf\u001b[39m\u001b[38;5;124m\"\u001b[39m\u001b[38;5;124mPillow version: \u001b[39m\u001b[38;5;132;01m{\u001b[39;00m__version__\u001b[38;5;132;01m}\u001b[39;00m\u001b[38;5;124m\"\u001b[39m\n\u001b[1;32m     96\u001b[0m         )\n",
      "\u001b[0;31mImportError\u001b[0m: dlopen(/opt/homebrew/Caskroom/miniforge/base/lib/python3.9/site-packages/Pillow-9.0.1-py3.9-macosx-11.0-arm64.egg/PIL/_imaging.cpython-39-darwin.so, 0x0002): symbol not found in flat namespace '_xcb_connect'"
     ]
    }
   ],
   "source": [
    "from PIL import Image\n",
    "import cv2\n",
    "import numpy as np\n",
    "import matplotlib.pyplot as plt\n"
   ]
  },
  {
   "cell_type": "markdown",
   "metadata": {
    "id": "jGRvgnXKFvcC"
   },
   "source": [
    "##  Read the images using cv2"
   ]
  },
  {
   "cell_type": "code",
   "execution_count": null,
   "metadata": {
    "colab": {
     "base_uri": "https://localhost:8080/",
     "height": 609
    },
    "id": "2OTqbUS1Rohy",
    "outputId": "8e9e0659-2263-43d7-915d-466758ed7db2"
   },
   "outputs": [],
   "source": [
    "#Read and plot Image 1\n",
    "img1 = cv2.imread('1.jpg')\n",
    "img1 = cv2.cvtColor(img1, cv2.COLOR_BGR2RGB)\n",
    "img1=np.asarray(img1)\n",
    "img1=img1.astype(np.int32)\n",
    "plt.figure(figsize=(15,15))\n",
    "plt.imshow(img1);\n"
   ]
  },
  {
   "cell_type": "code",
   "execution_count": null,
   "metadata": {
    "colab": {
     "base_uri": "https://localhost:8080/",
     "height": 609
    },
    "id": "AANcPFY-TJ6G",
    "outputId": "aa66ed73-f93e-4351-bad1-db80c19b9b19"
   },
   "outputs": [],
   "source": [
    "#Read and plot Image 2\n",
    "img2 = cv2.imread('2.jpg')\n",
    "img2 = cv2.cvtColor(img2, cv2.COLOR_BGR2RGB)\n",
    "img2=np.asarray(img2)\n",
    "img2=img2.astype(np.int32)\n",
    "plt.figure(figsize=(15,15))\n",
    "plt.imshow(img2);"
   ]
  },
  {
   "cell_type": "code",
   "execution_count": null,
   "metadata": {
    "colab": {
     "base_uri": "https://localhost:8080/",
     "height": 609
    },
    "id": "sctkHfQ7TMgg",
    "outputId": "7d023622-beb7-40ff-f731-2e6cbc3221f2"
   },
   "outputs": [],
   "source": [
    "#Read and plot Image 3\n",
    "img3 = cv2.imread('3.jpg')\n",
    "img3 = cv2.cvtColor(img3, cv2.COLOR_BGR2RGB)\n",
    "img3=img3.astype(np.int32)\n",
    "img3=np.asarray(img3)\n",
    "plt.figure(figsize=(15,15))\n",
    "plt.imshow(img3);"
   ]
  },
  {
   "cell_type": "markdown",
   "metadata": {
    "id": "08UUbXZtTxHo"
   },
   "source": [
    "## Find coordinates of the various given points\n",
    "To find the coordinates of a point, we iterate over a subsection (depending on the point required) of the matrix of the image to find pixels that have a very large difference between the colour channels, signifying the presence of a coloured pixel. Since each point contains many pixels, we take the average of all of them to find the center."
   ]
  },
  {
   "cell_type": "code",
   "execution_count": null,
   "metadata": {
    "colab": {
     "base_uri": "https://localhost:8080/"
    },
    "id": "EjXCNDFiTjBF",
    "outputId": "0fbe27fc-1373-461f-b107-e474633c0bc2"
   },
   "outputs": [],
   "source": [
    "#Find coordinates of eye of Belna in image 1\n",
    "belna_1=[0,0]\n",
    "count=0\n",
    "height=img1.shape[0]\n",
    "width=img1.shape[1]\n",
    "for i in range(0,int(height/3)):\n",
    "    for j in range(0,int(width/2)):\n",
    "    #As the point is red, the value of the red channel will be much higher than others\n",
    "        if((img1[i][j][0]-img1[i][j][1])>200): \n",
    "            count=count+1\n",
    "            belna_1[0]=belna_1[0]+i\n",
    "            belna_1[1]=belna_1[1]+j\n",
    "belna_1[0]=belna_1[0]/count #Take average of pixels to find center\n",
    "belna_1[1]=belna_1[1]/count\n",
    "print(belna_1)\n"
   ]
  },
  {
   "cell_type": "code",
   "execution_count": null,
   "metadata": {
    "colab": {
     "base_uri": "https://localhost:8080/"
    },
    "id": "G0qJGhcFY8Cc",
    "outputId": "849445d4-6c80-4bed-ed33-35b6c713e1cb"
   },
   "outputs": [],
   "source": [
    "#Find coordinates of eye of Ambali in image 1\n",
    "ambali_1=[0,0] \n",
    "count=0\n",
    "height=img1.shape[0]\n",
    "width=img1.shape[1]\n",
    "for i in range(0,int(height/2)):\n",
    "    for j in range(int(width/2),int(width)):\n",
    "    #As the point is red, the value of the red channel will be much higher than others\n",
    "        if((img1[i][j][0]-img1[i][j][1])>200):\n",
    "            count=count+1\n",
    "            ambali_1[0]=ambali_1[0]+i\n",
    "            ambali_1[1]=ambali_1[1]+j\n",
    "ambali_1[0]=ambali_1[0]/count #Take average of pixels to find center\n",
    "ambali_1[1]=ambali_1[1]/count\n",
    "print(ambali_1)"
   ]
  },
  {
   "cell_type": "code",
   "execution_count": null,
   "metadata": {
    "colab": {
     "base_uri": "https://localhost:8080/"
    },
    "id": "RI0z5fHsZoYp",
    "outputId": "5c44bb77-d2d8-4872-82df-50287cd89662"
   },
   "outputs": [],
   "source": [
    "#Find coordinates of eye of Belna in image 2\n",
    "belna_2=[0,0]\n",
    "count=0\n",
    "height=img2.shape[0]\n",
    "width=img2.shape[1]\n",
    "for i in range(0,int(height/3)):\n",
    "    for j in range(0,int(width/2)):\n",
    "      #As the point is red, the value of the red channel will be much higher than others\n",
    "        if((img2[i][j][0]-img2[i][j][1])>200):\n",
    "            count=count+1\n",
    "            belna_2[0]=belna_2[0]+i\n",
    "            belna_2[1]=belna_2[1]+j\n",
    "belna_2[0]=belna_2[0]/count #Take average of pixels to find center\n",
    "belna_2[1]=belna_2[1]/count\n",
    "print(belna_2)"
   ]
  },
  {
   "cell_type": "code",
   "execution_count": null,
   "metadata": {
    "colab": {
     "base_uri": "https://localhost:8080/"
    },
    "id": "PSBvJu58Z4iw",
    "outputId": "5f6b9172-4d74-45bb-f43d-f9b96fe0a16e"
   },
   "outputs": [],
   "source": [
    "#Find coordinates of eye of Ambali in image 2\n",
    "ambali_2=[0,0]  \n",
    "count=0\n",
    "height=img2.shape[0]\n",
    "width=img2.shape[1]\n",
    "for i in range(0,int(height/2)):\n",
    "    for j in range(int(width/2),int(width)):\n",
    "      #As the point is red, the value of the red channel will be much higher than others\n",
    "        if((img2[i][j][0]-img2[i][j][1])>200):\n",
    "            count=count+1\n",
    "            ambali_2[0]=ambali_2[0]+i\n",
    "            ambali_2[1]=ambali_2[1]+j\n",
    "ambali_2[0]=ambali_2[0]/count #Take average of pixels to find center\n",
    "ambali_2[1]=ambali_2[1]/count\n",
    "print(ambali_2)"
   ]
  },
  {
   "cell_type": "code",
   "execution_count": null,
   "metadata": {
    "colab": {
     "base_uri": "https://localhost:8080/"
    },
    "id": "-RO9wq2qa1WL",
    "outputId": "3669df3a-6689-425e-cb2d-e28a3ddac0d6"
   },
   "outputs": [],
   "source": [
    "#Find coordinates of eye of Belna in image 3\n",
    "belna_3=[0,0] \n",
    "count=0\n",
    "height=img3.shape[0]\n",
    "width=img3.shape[1]\n",
    "for i in range(0,int(height/3)):\n",
    "    for j in range(0,int(width/2)):\n",
    "       #As the point is red, the value of the red channel will be much higher than others\n",
    "        if((img3[i][j][0]-img3[i][j][1])>200):\n",
    "            count=count+1\n",
    "            belna_3[0]=belna_3[0]+i\n",
    "            belna_3[1]=belna_3[1]+j\n",
    "belna_3[0]=belna_3[0]/count #Take average of pixels to find center\n",
    "belna_3[1]=belna_3[1]/count\n",
    "print(belna_3)"
   ]
  },
  {
   "cell_type": "code",
   "execution_count": null,
   "metadata": {
    "colab": {
     "base_uri": "https://localhost:8080/"
    },
    "id": "eur9HzZbcxzF",
    "outputId": "f277cb05-8c03-4e3a-f122-36af0258c5ad"
   },
   "outputs": [],
   "source": [
    "#Find coordinates of eye of Ambali in image 3\n",
    "ambali_3=[0,0] \n",
    "count=0\n",
    "height=img3.shape[0]\n",
    "width=img3.shape[1]\n",
    "for i in range(0,int(height/2)):\n",
    "    for j in range(int(width/2),int(width)):\n",
    "       #As the point is red, the value of the red channel will be much higher than others\n",
    "        if((img3[i][j][0]-img3[i][j][1])>200):\n",
    "            count=count+1\n",
    "            ambali_3[0]=ambali_3[0]+i\n",
    "            ambali_3[1]=ambali_3[1]+j\n",
    "ambali_3[0]=ambali_3[0]/count #Take average of pixels to find center\n",
    "ambali_3[1]=ambali_3[1]/count\n",
    "print(ambali_3)"
   ]
  },
  {
   "cell_type": "code",
   "execution_count": null,
   "metadata": {
    "colab": {
     "base_uri": "https://localhost:8080/"
    },
    "id": "Uy47Igh7nP3F",
    "outputId": "9e79be56-7c19-4f82-f502-e55e1f53e4e0"
   },
   "outputs": [],
   "source": [
    "#Find coordinates of Reunion\n",
    "reunion=[0,0] \n",
    "count=0\n",
    "height=img1.shape[0]\n",
    "width=img1.shape[1]\n",
    "for i in range(0,int(height)):\n",
    "    for j in range(0,400):\n",
    "      #As the point is blue, the value of the blue channel will be much higher than others\n",
    "        if((img1[i][j][2]-img1[i][j][1])>200):\n",
    "            count=count+1\n",
    "            reunion[0]=reunion[0]+i\n",
    "            reunion[1]=reunion[1]+j\n",
    "reunion[0]=reunion[0]/count #Take average of pixels to find center\n",
    "reunion[1]=reunion[1]/count\n",
    "print(reunion)\n"
   ]
  },
  {
   "cell_type": "code",
   "execution_count": null,
   "metadata": {
    "colab": {
     "base_uri": "https://localhost:8080/"
    },
    "id": "mjNZpK7dnnlM",
    "outputId": "759f1330-a22a-454d-dced-8ca9863c1990"
   },
   "outputs": [],
   "source": [
    "#Find coordinates of Mauritius\n",
    "mauritius=[0,0] \n",
    "count=0\n",
    "height=img1.shape[0]\n",
    "width=img1.shape[1]\n",
    "for i in range(0,int(height)):\n",
    "    for j in range(400,int(width)):\n",
    "      #As the point is blue, the value of the blue channel will be much higher than others\n",
    "        if((img1[i][j][2]-img1[i][j][1])>200):\n",
    "            count=count+1\n",
    "            mauritius[0]=mauritius[0]+i\n",
    "            mauritius[1]=mauritius[1]+j\n",
    "mauritius[0]=mauritius[0]/count #Take average of pixels to find center\n",
    "mauritius[1]=mauritius[1]/count\n",
    "print(mauritius)\n"
   ]
  },
  {
   "cell_type": "code",
   "execution_count": null,
   "metadata": {
    "colab": {
     "base_uri": "https://localhost:8080/"
    },
    "id": "0XCyYhJXoiJd",
    "outputId": "a59579ae-6ca3-4ce2-adde-463c692d72bd"
   },
   "outputs": [],
   "source": [
    "#Find coordinates of Antsiranana\n",
    "ants=[0,0] \n",
    "count=0\n",
    "height=img1.shape[0]\n",
    "width=img1.shape[1]\n",
    "for i in range(0,300):\n",
    "    for j in range(0,int(width)):\n",
    "       #As the point is green, the value of the green channel will be much higher than others\n",
    "        if((img1[i][j][1]-img1[i][j][0])>200):\n",
    "            count=count+1\n",
    "            ants[0]=ants[0]+i\n",
    "            ants[1]=ants[1]+j\n",
    "ants[0]=ants[0]/count #Take average of pixels to find center\n",
    "ants[1]=ants[1]/count\n",
    "print(ants)"
   ]
  },
  {
   "cell_type": "code",
   "execution_count": null,
   "metadata": {
    "colab": {
     "base_uri": "https://localhost:8080/"
    },
    "id": "hRuRS3I3pVDD",
    "outputId": "5b2fed91-8d29-4b2c-ccee-40d981285063"
   },
   "outputs": [],
   "source": [
    "#Find coordinates of Antananarivo\n",
    "anta=[0,0] \n",
    "count=0\n",
    "height=img1.shape[0]\n",
    "width=img1.shape[1]\n",
    "for i in range(300,500):\n",
    "    for j in range(0,int(width)):\n",
    "      #As the point is green, the value of the green channel will be much higher than others\n",
    "        if((img1[i][j][1]-img1[i][j][0])>200):\n",
    "            count=count+1\n",
    "            anta[0]=anta[0]+i\n",
    "            anta[1]=anta[1]+j\n",
    "anta[0]=anta[0]/count #Take average of pixels to find center\n",
    "anta[1]=anta[1]/count\n",
    "print(anta)"
   ]
  },
  {
   "cell_type": "code",
   "execution_count": null,
   "metadata": {
    "colab": {
     "base_uri": "https://localhost:8080/"
    },
    "id": "bbGF82capoOm",
    "outputId": "061826de-b3ed-4cbd-b00d-0da447deb3d9"
   },
   "outputs": [],
   "source": [
    "#Find coordinates of Benonoka\n",
    "beno=[0,0] \n",
    "count=0\n",
    "height=img1.shape[0]\n",
    "width=img1.shape[1]\n",
    "for i in range(500,int(height)):\n",
    "    for j in range(0,int(width)):\n",
    "      #As the point is green, the value of the green channel will be much higher than others\n",
    "        if((img1[i][j][1]-img1[i][j][0])>200):\n",
    "            count=count+1\n",
    "            beno[0]=beno[0]+i\n",
    "            beno[1]=beno[1]+j\n",
    "beno[0]=beno[0]/count #Take average of pixels to find center\n",
    "beno[1]=beno[1]/count\n",
    "print(beno)"
   ]
  },
  {
   "cell_type": "markdown",
   "metadata": {
    "id": "kf0NL3SUT7_A"
   },
   "source": [
    "## Calculating the scaling factors to calculate distances\n",
    "First we find the line that divides the blue points and green points in half. Points to the left of this seperator line will have the scaling factor from the green points as they are closer to them and points to the right of this seperator line will have the scaling factor from the blue points as those are closer. \n",
    "\n",
    "To find the seperator line, we find the midpoint of the blue points and that of the green points and then furthur take their midpoint.\n",
    "To calculate the scaling factor, we divide the real given distance by the euclidean distance between the given points. "
   ]
  },
  {
   "cell_type": "code",
   "execution_count": null,
   "metadata": {
    "id": "GllC0TK8qXJy"
   },
   "outputs": [],
   "source": [
    "#Midpoint of Mauritius and Reunion\n",
    "mid_mau_reu=[0,0]\n",
    "mid_mau_reu[0]=(reunion[0]+mauritius[0])/2\n",
    "mid_mau_reu[1]=(reunion[1]+mauritius[1])/2\n"
   ]
  },
  {
   "cell_type": "code",
   "execution_count": null,
   "metadata": {
    "id": "NMKMySktq0py"
   },
   "outputs": [],
   "source": [
    "#Midpoint Benonoka and Antsiranana\n",
    "mid_ants_beno=[0,0]\n",
    "mid_ants_beno[0]=(ants[0]+beno[0])/2\n",
    "mid_ants_beno[1]=(ants[1]+beno[1])/2"
   ]
  },
  {
   "cell_type": "code",
   "execution_count": null,
   "metadata": {
    "colab": {
     "base_uri": "https://localhost:8080/"
    },
    "id": "QcSoqEWCrG4e",
    "outputId": "c75a00d0-d0d2-4800-f07b-6c10cf50e8a2"
   },
   "outputs": [],
   "source": [
    "#Midpoint of the midpoints of blue and green points\n",
    "#The seperator line will have equation y=sep_linene\n",
    "sep_line=[0,0]\n",
    "sep_line[0]=(mid_mau_reu[0]+mid_ants_beno[0])/2\n",
    "sep_line[1]=(mid_mau_reu[1]+mid_ants_beno[1])/2\n",
    "print(sep_line[1])"
   ]
  },
  {
   "cell_type": "code",
   "execution_count": null,
   "metadata": {
    "colab": {
     "base_uri": "https://localhost:8080/"
    },
    "id": "2J-3TsGrr1hP",
    "outputId": "9aa8fe72-5be8-447a-bd79-3aed6cc1083f"
   },
   "outputs": [],
   "source": [
    "#Scaling factor for the left half of the seperator line\n",
    "x=(ants[0]-beno[0])*(ants[0]-beno[0])+(ants[1]-beno[1])*(ants[1]-beno[1])\n",
    "x=np.sqrt(x)\n",
    "print(x)\n",
    "left_ratio=1500/x\n",
    "print(left_ratio)"
   ]
  },
  {
   "cell_type": "code",
   "execution_count": null,
   "metadata": {
    "colab": {
     "base_uri": "https://localhost:8080/"
    },
    "id": "zjxq6gx2tkEb",
    "outputId": "aa68350b-7ffa-4bfe-c898-4c14852f2ca1"
   },
   "outputs": [],
   "source": [
    "#Scaling factor for the right half of the seperator line\n",
    "x=(reunion[0]-mauritius[0])*(reunion[0]-mauritius[0])+(reunion[1]-mauritius[1])*(reunion[1]-mauritius[1])\n",
    "x=np.sqrt(x)\n",
    "print(x)\n",
    "right_ratio=250/x\n",
    "print(right_ratio)"
   ]
  },
  {
   "cell_type": "markdown",
   "metadata": {
    "id": "kC83UtUZUDS9"
   },
   "source": [
    "## Calculation of velocity of the cyclones\n",
    "The velocity of a cyclone is calculated by first finding the distance between the location of the eye at time step 1 and at time step 2. Then we divide by the time between the two time steps."
   ]
  },
  {
   "cell_type": "code",
   "execution_count": null,
   "metadata": {
    "colab": {
     "base_uri": "https://localhost:8080/"
    },
    "id": "b7MgKur9vDqp",
    "outputId": "92c43006-98e7-4384-b98d-1f8541440139"
   },
   "outputs": [],
   "source": [
    "#Velocity of cyclone belna\n",
    "belna_dst=(belna_2[0]-belna_3[0])*(belna_2[0]-belna_3[0])+(belna_2[1]-belna_3[1])*(belna_2[1]-belna_3[1])\n",
    "belna_dst=np.sqrt(belna_dst)*left_ratio\n",
    "time=55\n",
    "b_v=(belna_dst*60)/time #Convert to kmph\n",
    "print(b_v)"
   ]
  },
  {
   "cell_type": "code",
   "execution_count": null,
   "metadata": {
    "colab": {
     "base_uri": "https://localhost:8080/"
    },
    "id": "OtU3LeAKxa_h",
    "outputId": "dfdba907-2a5a-4a6b-ca0b-6c55d7ded8c1"
   },
   "outputs": [],
   "source": [
    "#Velocity of cyclone Ambali\n",
    "ambali_dst=(ambali_2[0]-ambali_3[0])*(ambali_2[0]-ambali_3[0])+(ambali_2[1]-ambali_3[1])*(ambali_2[1]-ambali_3[1])\n",
    "ambali_dst=np.sqrt(ambali_dst)*right_ratio\n",
    "time=55\n",
    "a_v=(ambali_dst*60)/time #Convert to kmph\n",
    "print(a_v)"
   ]
  },
  {
   "cell_type": "markdown",
   "metadata": {
    "id": "SoeDB0UbUHFr"
   },
   "source": [
    "## Calculating and plotting trajectories of Ambali and Belna\n",
    "Assuming the trajectory to be linear, we can assume the trajectory of a cyclone to be the line passing through the location of their eyes at time step 1 and time step 2. "
   ]
  },
  {
   "cell_type": "code",
   "execution_count": null,
   "metadata": {
    "colab": {
     "base_uri": "https://localhost:8080/"
    },
    "id": "QS0cHXMizWWW",
    "outputId": "a7e8686c-0ba1-4d87-b65b-fd39d5cbebd8"
   },
   "outputs": [],
   "source": [
    "#Line of trajectory for Belna\n",
    "belna_slope=(belna_3[1]-belna_2[1])/(belna_3[0]-belna_2[0])\n",
    "belna_int=-belna_2[0]*belna_slope+belna_2[1]\n",
    "print(belna_slope)\n",
    "print(belna_int)"
   ]
  },
  {
   "cell_type": "code",
   "execution_count": null,
   "metadata": {
    "colab": {
     "base_uri": "https://localhost:8080/"
    },
    "id": "TmuCN2TN2jS5",
    "outputId": "322ef031-2670-4069-a439-ccc1a5eff896"
   },
   "outputs": [],
   "source": [
    "#Line of trajectory for Ambali\n",
    "ambali_slope=(ambali_3[1]-ambali_2[1])/(ambali_3[0]-ambali_2[0])\n",
    "ambali_int=-ambali_2[0]*ambali_slope+ambali_2[1]\n",
    "print(ambali_slope)\n",
    "print(ambali_int)"
   ]
  },
  {
   "cell_type": "code",
   "execution_count": null,
   "metadata": {
    "colab": {
     "base_uri": "https://localhost:8080/"
    },
    "id": "4_JExT2O38eW",
    "outputId": "d49dd531-5899-4e1e-f496-29ce094c5804"
   },
   "outputs": [],
   "source": [
    "#Find the Intersection of the two trajectories/ coordinates of apojuncture\n",
    "inter=[0,0]\n",
    "inter[0]=(ambali_int-belna_int)/(belna_slope-ambali_slope)\n",
    "inter[1]=inter[0]*ambali_slope+ambali_int\n",
    "print(inter)"
   ]
  },
  {
   "cell_type": "code",
   "execution_count": null,
   "metadata": {
    "id": "BJFYt2sC6TMa"
   },
   "outputs": [],
   "source": [
    "x=np.linspace(0,1000,100)\n",
    "mid_y=np.ones(100)*sep_line[1]"
   ]
  },
  {
   "cell_type": "code",
   "execution_count": null,
   "metadata": {
    "colab": {
     "base_uri": "https://localhost:8080/",
     "height": 423
    },
    "id": "j4FA-Jr25Nhq",
    "outputId": "d1358c06-3472-45cd-f9ba-55d0a15c229b"
   },
   "outputs": [],
   "source": [
    "# Plot trajectories on image\n",
    "# Red-> Trajectory of Belna\n",
    "# Blue -> Trajectory of ambali\n",
    "plt.figure(figsize=(10,10))\n",
    "plt.plot(belna_slope*x+belna_int,x,'r')\n",
    "plt.plot(ambali_slope*x+ambali_int,x,'b')\n",
    "plt.plot(mid_y,x,'y')\n",
    "plt.imshow(img1)\n",
    "plt.show()"
   ]
  },
  {
   "cell_type": "markdown",
   "metadata": {
    "id": "HdMrEICQUR15"
   },
   "source": [
    "## Seperation from apojuncture and time required for the cyclones to reach there\n",
    "We simply use euclidean distance to find the distance between apojuncture and capital city Antanarivo"
   ]
  },
  {
   "cell_type": "code",
   "execution_count": null,
   "metadata": {
    "colab": {
     "base_uri": "https://localhost:8080/"
    },
    "id": "pVrgn1ZR7jgK",
    "outputId": "4b0f8556-ac0d-433e-d6c2-711ecfd0ed93"
   },
   "outputs": [],
   "source": [
    "# Distance of Apojuncture from capital city Antananarivo\n",
    "atr_dst=(inter[1]-anta[1])*(inter[1]-anta[1])+(inter[0]-anta[0])*(inter[0]-anta[0])\n",
    "atr_dst=np.sqrt(atr_dst)\n",
    "atr_dst=atr_dst*left_ratio\n",
    "print(atr_dst)"
   ]
  },
  {
   "cell_type": "code",
   "execution_count": null,
   "metadata": {
    "colab": {
     "base_uri": "https://localhost:8080/"
    },
    "id": "BgthtSbH9218",
    "outputId": "0930c376-4a79-465f-937b-fc1c05e283b2"
   },
   "outputs": [],
   "source": [
    "# Time Belna will take to reach apojuncture\n",
    "bel_dst=(inter[1]-belna_3[1])*(inter[1]-belna_3[1])+(inter[0]-belna_3[0])*(inter[0]-belna_3[0])\n",
    "bel_dst=np.sqrt(bel_dst)\n",
    "bel_dst=bel_dst*left_ratio\n",
    "bel_time=bel_dst/b_v\n",
    "print(bel_time)"
   ]
  },
  {
   "cell_type": "code",
   "execution_count": null,
   "metadata": {
    "colab": {
     "base_uri": "https://localhost:8080/"
    },
    "id": "Od4u4WNu-oh3",
    "outputId": "f652f1be-8352-4213-ae88-2090892dffa8"
   },
   "outputs": [],
   "source": [
    "#Time Ambali will take to reach apojuncture\n",
    "sep_y=sep_line[0]*ambali_slope+ambali_int\n",
    "sep_x=sep_line[0]\n",
    "\n",
    "d1=bel_dst=(sep_y-ambali_3[1])*(sep_y-ambali_3[1])+(sep_x-ambali_3[0])*(sep_x-ambali_3[0])\n",
    "d1=np.sqrt(d1)\n",
    "d1=d1*right_ratio\n",
    "t1=d1/a_v\n",
    "\n",
    "d2=bel_dst=(sep_y-inter[1])*(sep_y-inter[1])+(sep_x-inter[0])*(sep_x-inter[0])\n",
    "d2=np.sqrt(d2)\n",
    "d2=d2*left_ratio\n",
    "t2=d2/a_v\n",
    "\n",
    "ambali_time=t1+t2\n",
    "print(ambali_time)"
   ]
  },
  {
   "cell_type": "markdown",
   "metadata": {
    "id": "hwS-YqdxYgyb"
   },
   "source": [
    "## Results and Forecast\n",
    "#### Distance from Capital City (Antananarivo) to Apojuncture is \n",
    "759.65 Km"
   ]
  },
  {
   "cell_type": "code",
   "execution_count": null,
   "metadata": {
    "colab": {
     "base_uri": "https://localhost:8080/"
    },
    "id": "czMmVRMOipej",
    "outputId": "ddf80c7c-0876-4538-ac50-aea45ef857bd"
   },
   "outputs": [],
   "source": [
    "print(atr_dst)"
   ]
  },
  {
   "cell_type": "markdown",
   "metadata": {
    "id": "r-7ciRMajNUD"
   },
   "source": [
    "#### Time to reach Apojuncture\n",
    "Belna will reach Apojuncture in 30.7 hrs after latest image  \n",
    "\n",
    "Ambali will reach Apojuncture in 44.9 hrs after latest image"
   ]
  },
  {
   "cell_type": "code",
   "execution_count": null,
   "metadata": {
    "colab": {
     "base_uri": "https://localhost:8080/"
    },
    "id": "jNF2rLPojtOi",
    "outputId": "1af431d3-d40a-45d6-e36f-9fe105d06ae0"
   },
   "outputs": [],
   "source": [
    "print(bel_time)\n",
    "print(ambali_time)"
   ]
  },
  {
   "cell_type": "markdown",
   "metadata": {
    "id": "RGPiAlV7j_hH"
   },
   "source": [
    "#### Collision\n",
    "\n",
    "We observe that the trajectory of Ambali passes through land. So Cyclone Ambali will die out as it moves across land.\n",
    "Also as time taken by both cyclones to reach Apojuncture is different, even if they both were travelling over water, collision would still not be possible"
   ]
  }
 ],
 "metadata": {
  "colab": {
   "name": "Copy of Copy of Q3.ipynb",
   "provenance": []
  },
  "kernelspec": {
   "display_name": "Python 3 (ipykernel)",
   "language": "python",
   "name": "python3"
  },
  "language_info": {
   "codemirror_mode": {
    "name": "ipython",
    "version": 3
   },
   "file_extension": ".py",
   "mimetype": "text/x-python",
   "name": "python",
   "nbconvert_exporter": "python",
   "pygments_lexer": "ipython3",
   "version": "3.9.10"
  }
 },
 "nbformat": 4,
 "nbformat_minor": 1
}
